{
 "cells": [
  {
   "cell_type": "markdown",
   "metadata": {},
   "source": [
    "# Residual Networks\n",
    "\n",
    "In this notebook, you will learn how to build very deep convolutional networks using Residual Networks (ResNets). In theory, very deep networks can represent very complex functions; but in practice, they are hard to train. Residual Networks, introduced by [He et al.](https://arxiv.org/pdf/1512.03385.pdf), allow you to train much deeper networks than were previously practically feasible.\n",
    "\n",
    "**In this assignment, you will:**\n",
    "- Implement the basic building blocks of ResNets. \n",
    "- Put together these building blocks to implement and train a state-of-the-art neural network for image classification. \n",
    "\n",
    "This assignment will be done in PyTorch. \n",
    "\n",
    "Before jumping into the problem, let's run the cell below to load the required packages."
   ]
  },
  {
   "cell_type": "code",
   "execution_count": 1,
   "metadata": {},
   "outputs": [],
   "source": [
    "import torch\n",
    "import torch.nn as nn\n",
    "import torch.optim as optim\n",
    "from resnets_utils import *\n",
    "\n",
    "from torch.utils.data import DataLoader, TensorDataset\n",
    "\n",
    "import numpy as np\n",
    "import h5py\n",
    "from matplotlib import pyplot as plt"
   ]
  },
  {
   "cell_type": "code",
   "execution_count": 2,
   "metadata": {},
   "outputs": [
    {
     "data": {
      "text/plain": [
       "<torch._C.Generator at 0x1d9957b8890>"
      ]
     },
     "execution_count": 2,
     "metadata": {},
     "output_type": "execute_result"
    }
   ],
   "source": [
    "device = torch.device('cuda:0' if torch.cuda.is_available() else 'cpu')\n",
    "torch.cuda.manual_seed_all(1337)\n",
    "torch.manual_seed(1337)"
   ]
  },
  {
   "cell_type": "markdown",
   "metadata": {},
   "source": [
    "## 1 - The problem of very deep neural networks\n",
    "\n",
    "In recent years, neural networks have become deeper, with state-of-the-art networks going from just a few layers (e.g., AlexNet) to over a hundred layers.\n",
    "\n",
    "The main benefit of a very deep network is that it can represent very complex functions. It can also learn features at many different levels of abstraction, from edges (at the lower layers) to very complex features (at the deeper layers). However, using a deeper network doesn't always help. A huge barrier to training them is vanishing gradients: very deep networks often have a gradient signal that goes to zero quickly, thus making gradient descent unbearably slow. More specifically, during gradient descent, as you backprop from the final layer back to the first layer, you are multiplying by the weight matrix on each step, and thus the gradient can decrease exponentially quickly to zero (or, in rare cases, grow exponentially quickly and \"explode\" to take very large values). \n",
    "\n",
    "During training, you might therefore see the magnitude (or norm) of the gradient for the earlier layers descrease to zero very rapidly as training proceeds: "
   ]
  },
  {
   "cell_type": "markdown",
   "metadata": {},
   "source": [
    "<img src=\"images/vanishing_grad_kiank.png\" style=\"width:450px;height:220px;\">\n",
    "<caption><center> <u> <font color='purple'> **Figure 1** </u><font color='purple'>  : **Vanishing gradient** <br> The speed of learning decreases very rapidly for the early layers as the network trains </center></caption>\n",
    "\n",
    "You are now going to mitigate this problem by building a Residual Network!"
   ]
  },
  {
   "cell_type": "markdown",
   "metadata": {},
   "source": [
    "## 2 - Building a Residual Network\n",
    "\n",
    "In ResNets, a \"shortcut\" or a \"skip connection\" allows the gradient to be directly backpropagated to earlier layers:  \n",
    "\n",
    "<img src=\"images/skip_connection_kiank.png\" style=\"width:650px;height:200px;\">\n",
    "<caption><center> <u> <font color='purple'> **Figure 2** </u><font color='purple'>  : A ResNet block showing a **skip-connection** <br> </center></caption>\n",
    "\n",
    "The image on the left shows the \"main path\" through the network. The image on the right adds a shortcut to the main path. By stacking these ResNet blocks on top of each other, you can form a very deep network. \n",
    "\n",
    "We also saw in lecture that having ResNet blocks with the shortcut also makes it very easy for one of the blocks to learn an identity function. This means that you can stack on additional ResNet blocks with little risk of harming training set performance. (There is also some evidence that the ease of learning an identity function--even more than skip connections helping with vanishing gradients--accounts for ResNets' remarkable performance.)\n",
    "\n",
    "Two main types of blocks are used in a ResNet, depending mainly on whether the input/output dimensions are same or different. You are going to implement both of them. "
   ]
  },
  {
   "cell_type": "markdown",
   "metadata": {},
   "source": [
    "### 2.1 - The identity block\n",
    "\n",
    "The identity block is the standard block used in ResNets, and corresponds to the case where the input activation (say $a^{[l]}$) has the same dimension as the output activation (say $a^{[l+2]}$). To flesh out the different steps of what happens in a ResNet's identity block, here is an alternative diagram showing the individual steps:\n",
    "\n",
    "<img src=\"images/idblock2_kiank.png\" style=\"width:650px;height:150px;\">\n",
    "<caption><center> <u> <font color='purple'> **Figure 3** </u><font color='purple'>  : **Identity block.** Skip connection \"skips over\" 2 layers. </center></caption>\n",
    "\n",
    "The upper path is the \"shortcut path.\" The lower path is the \"main path.\" In this diagram, we have also made explicit the CONV2D and ReLU steps in each layer. To speed up training we have also added a BatchNorm step. Don't worry about this being complicated to implement--you'll see that BatchNorm is just one line of code in Pytorch! \n",
    "\n",
    "In this exercise, you'll actually implement a slightly more powerful version of this identity block, in which the skip connection \"skips over\" 3 hidden layers rather than 2 layers. It looks like this: \n",
    "\n",
    "<img src=\"images/idblock3_kiank.png\" style=\"width:650px;height:150px;\">\n",
    "<caption><center> <u> <font color='purple'> **Figure 4** </u><font color='purple'>  : **Identity block.** Skip connection \"skips over\" 3 layers.</center></caption>\n",
    "\n",
    "Here're the individual steps.\n",
    "\n",
    "First component of main path: \n",
    "- The first CONV2D has $F_1$ filters of shape (1,1) and a stride of (1,1). Its padding is \"valid\". \n",
    "- The first BatchNorm is normalizing the channels axis.\n",
    "- Then apply the ReLU activation function. This has no name and no hyperparameters. \n",
    "\n",
    "Second component of main path:\n",
    "- The second CONV2D has $F_2$ filters of shape $(f,f)$ and a stride of (1,1). Its padding is \"same\".  \n",
    "- The second BatchNorm is normalizing the channels axis.\n",
    "- Then apply the ReLU activation function. This has no name and no hyperparameters. \n",
    "\n",
    "Third component of main path:\n",
    "- The third CONV2D has $F_3$ filters of shape (1,1) and a stride of (1,1). Its padding is \"valid\". \n",
    "- The third BatchNorm is normalizing the channels axis. Note that there is no ReLU activation function in this component. \n",
    "\n",
    "Final step: \n",
    "- The shortcut and the input are added together.\n",
    "- Then apply the ReLU activation function. This has no name and no hyperparameters. \n",
    "\n",
    "**Exercise**: Implement the ResNet identity block. We have implemented the first component of the main path. Please read over this carefully to make sure you understand what it is doing. You should implement the rest. \n",
    "- To implement the Conv2D step: [See reference](https://pytorch.org/docs/stable/nn.html#torch.nn.Conv2d)\n",
    "- To implement BatchNorm: [See reference](https://pytorch.org/docs/stable/nn.html#torch.nn.BatchNorm2d)\n",
    "- For the activation, use: `nn.ReLU()`"
   ]
  },
  {
   "cell_type": "code",
   "execution_count": 3,
   "metadata": {
    "code_folding": [
     0
    ]
   },
   "outputs": [],
   "source": [
    "# GRADED CLASS: identity_block\n",
    "# identity block doesn't change input sizes and the number of channels.\n",
    "class identity_block(nn.Module):    \n",
    "    \"\"\"\n",
    "    Implementation of the identity block as defined in Figure 3\n",
    "\n",
    "    Arguments:\n",
    "    X -- input tensor of shape (m, n_H_prev, n_W_prev, n_C_prev)\n",
    "    filters -- integer, specifying the shape of the middle CONV's window for the main path\n",
    "    input_channels -- integer, specifying the number of channels in the input data, x\n",
    "\n",
    "    Returns:\n",
    "    x -- output of the identity block, tensor of shape (n_H, n_W, n_C)\n",
    "    \"\"\"\n",
    "    def __init__(self, filters, input_channels):\n",
    "        super().__init__()\n",
    "        F1, F2 = filters\n",
    "        #Set up the first component of the main path\n",
    "        self.conv2d_1 = nn.Conv2d(in_channels=input_channels, out_channels=F1, kernel_size=1)\n",
    "        self.bn_1 = nn.BatchNorm2d(F1)\n",
    "        self.relu_1 = nn.ReLU()\n",
    "        \n",
    "        ### START CODE HERE ###\n",
    "        \n",
    "        # Set up the second component of the main path\n",
    "        #3x3 same convolution, padding=1, stride=1\n",
    "        self.conv2d_2 = nn.Conv2d(in_channels=F1, out_channels=F2, kernel_size=3, padding=1) #same convolution\n",
    "        self.bn_2 = nn.BatchNorm2d(F2)\n",
    "        self.relu_2 = nn.ReLU()\n",
    "        \n",
    "        #Set up the third component of the main path\n",
    "        #we get back to the original channel size since we assume that the input from the shortcut path and\n",
    "        #from the main path has the same number of channels when we are using an identity block.\n",
    "        self.conv2d_3 = nn.Conv2d(in_channels=F2, out_channels=input_channels, kernel_size=1) #doesn't change input size\n",
    "        self.bn_3 = nn.BatchNorm2d(input_channels)\n",
    "        self.relu_3 = nn.ReLU()\n",
    "        \n",
    "        ### END CODE HERE ###\n",
    "        \n",
    "    def forward(self, x):\n",
    "        #create shortcut which is simply the input\n",
    "        x_shortcut = x\n",
    "        #Apply the fist component of the main path declared above in __init__\n",
    "        x = self.conv2d_1(x)\n",
    "        x = self.bn_1(x)\n",
    "        x = self.relu_1(x)\n",
    "        ### START CODE HERE ###\n",
    "        \n",
    "        #Apply the second component of main path (≈3 lines)\n",
    "        x = self.conv2d_2(x)\n",
    "        x = self.bn_2(x)\n",
    "        x = self.relu_2(x)\n",
    "        \n",
    "        #Apply the third component of main path (≈2 lines)\n",
    "        x = self.conv2d_3(x)\n",
    "        x = self.bn_3(x) \n",
    "        \n",
    "        # Final step: Add shortcut value to main path and pass it through a RELU activation (≈2 lines)\n",
    "        x += x_shortcut\n",
    "        \n",
    "        x = self.relu_3(x)\n",
    "        ### END CODE HERE ###\n",
    "        \n",
    "        return x"
   ]
  },
  {
   "cell_type": "markdown",
   "metadata": {},
   "source": [
    "## 2.2 - The convolutional block\n",
    "\n",
    "You've implemented the ResNet identity block. Next, the ResNet \"convolutional block\" is the other type of block. You can use this type of block when the input and output dimensions don't match up. The difference with the identity block is that there is a CONV2D layer in the shortcut path: \n",
    "\n",
    "<img src=\"images/convblock_kiank.png\" style=\"width:650px;height:150px;\">\n",
    "<caption><center> <u> <font color='purple'> **Figure 4** </u><font color='purple'>  : **Convolutional block** </center></caption>\n",
    "\n",
    "The CONV2D layer in the shortcut path is used to resize the input $x$ to a different dimension, so that the dimensions match up in the final addition needed to add the shortcut value back to the main path. (This plays a similar role as the matrix $W_s$ discussed in lecture.) For example, to reduce the activation dimensions's height and width by a factor of 2, you can use a 1x1 convolution with a stride of 2. The CONV2D layer on the shortcut path does not use any non-linear activation function. Its main role is to just apply a (learned) linear function that reduces the dimension of the input, so that the dimensions match up for the later addition step. \n",
    "\n",
    "The details of the convolutional block are as follows. \n",
    "\n",
    "First component of main path:\n",
    "- The first CONV2D has $F_1$ filters of shape (1,1) and a stride of (stide_size,stride_size). Its padding is \"valid\". \n",
    "- The first BatchNorm normalizes the channel axis. \n",
    "- Then apply the ReLU activation function. This has no hyperparameters. \n",
    "\n",
    "Second component of main path:\n",
    "- The second CONV2D has $F_2$ filters of (f,f) and a stride of (1,1). Its padding is \"same\".\n",
    "- The second BatchNorm is normalize the channel axis.\n",
    "- Then apply the ReLU activation function. This has no hyperparameters. \n",
    "\n",
    "Third component of main path:\n",
    "- The third CONV2D has $F_3$ filters of (1,1) and a stride of (1,1). Its padding is \"valid\".\n",
    "- The third BatchNorm is normalizes the channels axis. Note that there is no ReLU activation function in this component. \n",
    "\n",
    "Shortcut path:\n",
    "- The CONV2D has $F_3$ filters of shape (1,1) and a stride of (stride_size,stride_size). Its padding is \"valid\".\n",
    "- The BatchNorm noramlizes the channel axis.\n",
    "\n",
    "Final step: \n",
    "- The shortcut and the main path values are added together.\n",
    "- Then apply the ReLU activation function. This has no hyperparameters. \n",
    "    \n",
    "**Exercise**: Implement the convolutional block. We have implemented the first component of the main path; you should implement the rest.\n",
    "- [Conv Hint](https://pytorch.org/docs/stable/nn.html#torch.nn.Conv2d)\n",
    "- [BatchNorm Hint](https://pytorch.org/docs/stable/nn.html#torch.nn.BatchNorm2d)\n",
    "- For the activation, use: `nn.ReLU()`"
   ]
  },
  {
   "cell_type": "code",
   "execution_count": 4,
   "metadata": {
    "code_folding": [
     0
    ]
   },
   "outputs": [],
   "source": [
    "# GRADED CLASS: convolutional_block\n",
    "\n",
    "\n",
    "class convolutional_block(nn.Module):\n",
    "    \"\"\"\n",
    "    Implementation of the convolutional block as defined in Figure 4\n",
    "\n",
    "    Arguments:\n",
    "    x -- input tensor of shape (m, n_H_prev, n_W_prev, n_C_prev)\n",
    "    filters -- python list of integers, defining the number of filters in the CONV layers of the main path\n",
    "    stide_size -- Integer, specifying the stride to be used\n",
    "    input_channels -- Integer, specifying the number of channels in the input data, x\n",
    "\n",
    "    Returns:\n",
    "    x -- output of the convolutional block, tensor of shape (n_H, n_W, n_C)\n",
    "    \"\"\"\n",
    "    \n",
    "    def __init__(self, filters, stride_size, input_channels):\n",
    "        super().__init__()\n",
    "        \n",
    "        # Retrieve Filters\n",
    "        F1, F2, F3 = filters\n",
    "        ######MAIN PATH#####\n",
    "        #Set up first component of the main path\n",
    "        self.conv2d_1 = nn.Conv2d(in_channels=input_channels, out_channels=F1, kernel_size=1, stride=stride_size)\n",
    "        self.bn_1 = nn.BatchNorm2d(F1)\n",
    "        self.relu_1 = nn.ReLU()\n",
    "        \n",
    "        ###START CODE HERE###\n",
    "        #Set up second component of main path (≈3 lines)\n",
    "        #3x3 same convolution, padding=1, stride =1\n",
    "        self.conv2d_2 = nn.Conv2d(in_channels=F1, out_channels=F2, kernel_size=3, padding=1) \n",
    "        self.bn_2 = nn.BatchNorm2d(F2)\n",
    "        self.relu_2 = nn.ReLU()\n",
    "        \n",
    "        #Set up third component of main path (≈2 lines)\n",
    "        #1x1 valid convolution, padding=0, stride =1\n",
    "        self.conv2d_3 = nn.Conv2d(in_channels=F2, out_channels=F3, kernel_size=1)\n",
    "        self.bn_3 = nn.BatchNorm2d(F3)\n",
    "        \n",
    "        ###END CODE HERE###\n",
    "        \n",
    "        #####SHORTCUT PATH#####\n",
    "        #After this, input sizes and the number of channels will match. Because this convolution applies the only \n",
    "        #transformation that affects the input size, the key point here is stride=stride_size. The output channels are equal\n",
    "        #to the number of output channels of the main path. \n",
    "        self.conv2d_shortcut = nn.Conv2d(in_channels=input_channels, \n",
    "                                         out_channels=F3, \n",
    "                                         kernel_size=1, \n",
    "                                         stride=stride_size)\n",
    "        self.bn_shortcut = nn.BatchNorm2d(F3)     \n",
    "        self.relu_3 = nn.ReLU()\n",
    "        \n",
    "        \n",
    "    def forward(self, x):\n",
    "        #create shortcut which is simply the input\n",
    "        x_shortcut = x\n",
    "        \n",
    "        ####MAIN PATH####\n",
    "        #Apply the fist component of the main path declared above in __init__        \n",
    "        x = self.conv2d_1(x)\n",
    "        x = self.bn_1(x)\n",
    "        x = self.relu_1(x)\n",
    "        ###START CODE HERE###\n",
    "        \n",
    "        #Apply the second component (≈3 lines)\n",
    "        x = self.conv2d_2(x)\n",
    "        x = self.bn_2(x)\n",
    "        x = self.relu_2(x)\n",
    "        \n",
    "        #Apply the third component (≈2 lines)\n",
    "        x = self.conv2d_3(x)\n",
    "        x = self.bn_3(x)\n",
    "        \n",
    "        ####SHORTCUT PATH#####\n",
    "        #Apply convolution and batch norm to shortcut (≈2 lines)\n",
    "        x_shortcut = self.conv2d_shortcut(x_shortcut)\n",
    "        x_shortcut = self.bn_shortcut(x_shortcut)\n",
    "        \n",
    "        # Final step: Add shortcut value to main path and pass it through a RELU activation (≈2 lines)\n",
    "        x += x_shortcut\n",
    "        x = self.relu_3(x)\n",
    "        ###END CODE HERE###\n",
    "        \n",
    "        return x"
   ]
  },
  {
   "cell_type": "markdown",
   "metadata": {},
   "source": [
    "## 3 - Building your first ResNet model (50 layers)\n",
    "\n",
    "You now have the necessary blocks to build a very deep ResNet. The following figure describes in detail the architecture of this neural network. \"ID BLOCK\" in the diagram stands for \"Identity block,\" and \"ID BLOCK x3\" means you should stack 3 identity blocks together.\n",
    "\n",
    "<img src=\"images/resnet_kiank.png\" style=\"width:850px;height:150px;\">\n",
    "<caption><center> <u> <font color='purple'> **Figure 5** </u><font color='purple'>  : **ResNet-50 model** </center></caption>\n",
    "\n",
    "The details of this ResNet-50 model are:\n",
    "- Zero-padding pads the input with a pad of (3,3)\n",
    "- Stage 1:\n",
    "    - The 2D Convolution has 64 filters of shape (7,7) and uses a stride of (2,2).\n",
    "    - BatchNorm is applied to the channels axis of the input.\n",
    "    - MaxPooling uses a (3,3) window and a (2,2) stride.\n",
    "- Stage 2:\n",
    "    - The convolutional block uses three set of filters of size [64,64,256], \"f\" is 3, \"stride_size\" is 1.\n",
    "    - The 2 identity blocks use three set of filters of size [64,64,256], \"f\" is 3.\n",
    "- Stage 3:\n",
    "    - The convolutional block uses three set of filters of size [128,128,512], \"f\" is 3, \"stride_size\" is 2.\n",
    "    - The 3 identity blocks use three set of filters of size [128,128,512], \"f\" is 3.\n",
    "- Stage 4:\n",
    "    - The convolutional block uses three set of filters of size [256, 256, 1024], \"f\" is 3, \"stride_size\" is 2.\n",
    "    - The 5 identity blocks use three set of filters of size [256, 256, 1024], \"f\" is 3.\n",
    "- Stage 5:\n",
    "    - The convolutional block uses three set of filters of size [512, 512, 2048], \"f\" is 3, \"stride_size\" is 2.\n",
    "    - The 2 identity blocks use three set of filters of size [512, 512, 2048], \"f\" is 3.\n",
    "- The 2D Average Pooling uses a window of shape (2,2).\n",
    "- The Fully Connected (Linear) layer reduces its input to the number of classes using a softmax activation.\n",
    "\n",
    "**Exercise**: Implement the ResNet with 50 layers described in the figure above. We have implemented Stages 1 and 2. Please implement the rest. (The syntax for implementing Stages 3-5 should be quite similar to that of Stage 2.) Make sure you follow the naming convention in the text above. Additionally, you need only use the the identity_block and convolutional_block classes defined above."
   ]
  },
  {
   "cell_type": "code",
   "execution_count": 5,
   "metadata": {
    "code_folding": [
     0
    ]
   },
   "outputs": [],
   "source": [
    "# GRADED MODEL: ResNet50\n",
    "num_classes = 6\n",
    "ResNet50 = nn.Sequential(\n",
    "    #Zero Padding\n",
    "    nn.ConstantPad2d(3, 0),\n",
    "    #Stage 1\n",
    "    nn.Conv2d(in_channels=3, out_channels=64, kernel_size=7, stride=2),\n",
    "    nn.BatchNorm2d(64),\n",
    "    nn.MaxPool2d(kernel_size=3, stride=2),\n",
    "    #Stage 2 convolutation_block (CB) --> identity_block (IB) --> IB\n",
    "    convolutional_block(filters=[64, 64, 256], stride_size=1, input_channels=64),\n",
    "    identity_block(filters=[64, 64], input_channels=256),\n",
    "    identity_block(filters=[64, 64], input_channels=256),\n",
    "    ###START CODE HERE###\n",
    "    #Stage 3 (≈4 lines)  CB --> IB --> IB --> IB\n",
    "    convolutional_block(filters=[128, 128, 512], stride_size=2, input_channels=256),\n",
    "    identity_block(filters=[128, 128], input_channels=512),\n",
    "    identity_block(filters=[128, 128], input_channels=512),\n",
    "    identity_block(filters=[128, 128], input_channels=512),\n",
    "    #Stage 4(≈6 lines) CB --> IB --> IB --> IB --> IB --> IB\n",
    "    convolutional_block(filters=[256, 256, 1024], stride_size=2, input_channels=512),\n",
    "    identity_block(filters=[256, 256], input_channels=1024),\n",
    "    identity_block(filters=[256, 256], input_channels=1024),\n",
    "    identity_block(filters=[256, 256], input_channels=1024),\n",
    "    identity_block(filters=[256, 256], input_channels=1024),\n",
    "    identity_block(filters=[256, 256], input_channels=1024),\n",
    "    #Stage 5(≈3 lines) CB --> IB --> IB\n",
    "    convolutional_block(filters=[512, 512, 2048], stride_size=2, input_channels=1024),\n",
    "    identity_block(filters=[512, 512], input_channels=2048),\n",
    "    identity_block(filters=[512, 512], input_channels=2048),\n",
    "    ###END CODE HERE###\n",
    "    nn.AvgPool2d(kernel_size=2), #outputs 1x1x2048\n",
    "    nn.Flatten(),\n",
    "    nn.Linear(2048, num_classes)\n",
    ").to(device)"
   ]
  },
  {
   "cell_type": "markdown",
   "metadata": {},
   "source": [
    "Great! As always, let's use cross entropy loss and Adam to optimize our network."
   ]
  },
  {
   "cell_type": "code",
   "execution_count": 6,
   "metadata": {},
   "outputs": [],
   "source": [
    "criterion = nn.CrossEntropyLoss()\n",
    "optimizer = optim.Adam(ResNet50.parameters(), lr=1e-3)"
   ]
  },
  {
   "cell_type": "markdown",
   "metadata": {},
   "source": [
    "The model is now ready to be trained. The only thing you need is a dataset."
   ]
  },
  {
   "cell_type": "markdown",
   "metadata": {},
   "source": [
    "Let's load the SIGNS Dataset.\n",
    "\n",
    "<img src=\"images/signs_data_kiank.png\" style=\"width:450px;height:250px;\">\n",
    "<caption><center> <u> <font color='purple'> **Figure 6** </u><font color='purple'>  : **SIGNS dataset** </center></caption>\n"
   ]
  },
  {
   "cell_type": "code",
   "execution_count": 7,
   "metadata": {},
   "outputs": [
    {
     "name": "stdout",
     "output_type": "stream",
     "text": [
      "number of training examples = 1080\n",
      "number of test examples = 120\n",
      "X_train shape: (1080, 3, 64, 64)\n",
      "Y_train shape: (1080,)\n",
      "X_test shape: (120, 3, 64, 64)\n",
      "Y_test shape: (120,)\n"
     ]
    }
   ],
   "source": [
    "X_train_orig, Y_train, X_test_orig, Y_test, classes = load_dataset()\n",
    "\n",
    "#swap axes to Pytorch convention\n",
    "X_train_orig = np.transpose(X_train_orig, (0, 3, 1, 2))\n",
    "X_test_orig = np.transpose(X_test_orig, (0, 3, 1, 2))\n",
    "\n",
    "#flatten to vectors\n",
    "Y_train = Y_train.ravel()\n",
    "Y_test = Y_test.ravel()\n",
    "\n",
    "# Normalize image tensors\n",
    "X_train = X_train_orig/255.\n",
    "X_test = X_test_orig/255.\n",
    "\n",
    "print (\"number of training examples = \" + str(X_train.shape[0]))\n",
    "print (\"number of test examples = \" + str(X_test.shape[0]))\n",
    "print (\"X_train shape: \" + str(X_train.shape))\n",
    "print (\"Y_train shape: \" + str(Y_train.shape))\n",
    "print (\"X_test shape: \" + str(X_test.shape))\n",
    "print (\"Y_test shape: \" + str(Y_test.shape))"
   ]
  },
  {
   "cell_type": "markdown",
   "metadata": {},
   "source": [
    "Let's now convert the numpy arrays to Pytorch tensors and then to Dataset objects. Hopefully you remember this from the first Pytorch assignment!"
   ]
  },
  {
   "cell_type": "code",
   "execution_count": 8,
   "metadata": {},
   "outputs": [],
   "source": [
    "X_train_tensor = torch.tensor(X_train, dtype=torch.float32)\n",
    "Y_train_tensor = torch.tensor(Y_train, dtype=torch.long)\n",
    "\n",
    "X_test_tensor = torch.tensor(X_test, dtype=torch.float32)\n",
    "Y_test_tensor = torch.tensor(Y_test, dtype=torch.long)\n",
    "\n",
    "\n",
    "train_dataset = TensorDataset(X_train_tensor, Y_train_tensor)\n",
    "test_dataset = TensorDataset(X_test_tensor, Y_test_tensor)"
   ]
  },
  {
   "cell_type": "markdown",
   "metadata": {},
   "source": [
    "Finally, we can change the dataset objects into Pytorch dataloaders and specify the batch size."
   ]
  },
  {
   "cell_type": "code",
   "execution_count": 9,
   "metadata": {},
   "outputs": [],
   "source": [
    "loader_train = DataLoader(train_dataset, batch_size=32, shuffle=True)\n",
    "loader_test = DataLoader(test_dataset, batch_size=32, shuffle=True)"
   ]
  },
  {
   "cell_type": "markdown",
   "metadata": {},
   "source": [
    "Run the following cell to train your model for 10 epochs. On my GPU, it takes about 1 minute. "
   ]
  },
  {
   "cell_type": "code",
   "execution_count": 10,
   "metadata": {
    "code_folding": []
   },
   "outputs": [
    {
     "name": "stdout",
     "output_type": "stream",
     "text": [
      "Epoch: 1 | Test Accuracy: 0.18333333333333332 | Train Accuracy: 0.1712962962962963\n",
      "Epoch: 2 | Test Accuracy: 0.38333333333333336 | Train Accuracy: 0.42962962962962964\n",
      "Epoch: 3 | Test Accuracy: 0.875 | Train Accuracy: 0.8685185185185185\n",
      "Epoch: 4 | Test Accuracy: 0.8583333333333333 | Train Accuracy: 0.8777777777777778\n",
      "Epoch: 5 | Test Accuracy: 0.85 | Train Accuracy: 0.9092592592592592\n",
      "Epoch: 6 | Test Accuracy: 0.7333333333333333 | Train Accuracy: 0.8018518518518518\n",
      "Epoch: 7 | Test Accuracy: 0.8416666666666667 | Train Accuracy: 0.8722222222222222\n",
      "Epoch: 8 | Test Accuracy: 0.875 | Train Accuracy: 0.9185185185185185\n",
      "Epoch: 9 | Test Accuracy: 0.8333333333333334 | Train Accuracy: 0.899074074074074\n",
      "Epoch: 10 | Test Accuracy: 0.8166666666666667 | Train Accuracy: 0.8333333333333334\n",
      "Epoch: 11 | Test Accuracy: 0.75 | Train Accuracy: 0.7666666666666667\n",
      "Epoch: 12 | Test Accuracy: 0.9666666666666667 | Train Accuracy: 0.987037037037037\n",
      "Epoch: 13 | Test Accuracy: 0.8 | Train Accuracy: 0.8027777777777778\n",
      "Epoch: 14 | Test Accuracy: 0.9666666666666667 | Train Accuracy: 0.9925925925925926\n",
      "Epoch: 15 | Test Accuracy: 0.925 | Train Accuracy: 0.9333333333333333\n",
      "Epoch: 16 | Test Accuracy: 0.9916666666666667 | Train Accuracy: 0.9962962962962963\n",
      "Epoch: 17 | Test Accuracy: 0.925 | Train Accuracy: 0.9324074074074075\n",
      "Epoch: 18 | Test Accuracy: 0.8333333333333334 | Train Accuracy: 0.8481481481481481\n",
      "Epoch: 19 | Test Accuracy: 0.7083333333333334 | Train Accuracy: 0.7305555555555555\n",
      "Epoch: 20 | Test Accuracy: 0.95 | Train Accuracy: 0.9722222222222222\n"
     ]
    },
    {
     "data": {
      "image/png": "[encoded data removed]",
      "text/plain": [
       "<Figure size 432x288 with 1 Axes>"
      ]
     },
     "metadata": {
      "needs_background": "light"
     },
     "output_type": "display_data"
    },
    {
     "data": {
      "image/png": "[encoded data removed]",
      "text/plain": [
       "<Figure size 432x288 with 1 Axes>"
      ]
     },
     "metadata": {
      "needs_background": "light"
     },
     "output_type": "display_data"
    },
    {
     "name": "stdout",
     "output_type": "stream",
     "text": [
      "Wall time: 2min 32s\n"
     ]
    }
   ],
   "source": [
    "%%time\n",
    "def train(model, criterion, optimizer, train_loader, test_loader, epochs=20):\n",
    "    torch.manual_seed(1337)\n",
    "    #Intialize empty lists to accumulate costs and accuracy values on each epoch\n",
    "    train_costs, test_costs, test_accs, train_accs = [], [], [], []\n",
    "    model = model.to(device)\n",
    "    #Start training for loop. epoch is neural network jargon for iteration\n",
    "    for epoch in range(epochs):\n",
    "        \n",
    "        #Optimization\n",
    "        train_loss = 0.0\n",
    "        model.train()\n",
    "        for X, Y in train_loader:\n",
    "            \n",
    "            #Send X and Y to a given device for optimized parameter updates (CUDA or CPU)\n",
    "            output, target = X.to(device), Y.to(device).view(-1)\n",
    "            ###START CODE HERE###\n",
    "            #Compute model's prediction of X (approx 1 line)\n",
    "            output = model(output)\n",
    "            #Compute the loss for the model's prediction and the true value of Y (approx 1 line)\n",
    "            loss = criterion(output, target)\n",
    "            #Add the train loss value to our train loss accumulator\n",
    "            train_loss += loss.item()\n",
    "            #Initialize gradient to zero (approx 1 line)\n",
    "            optimizer.zero_grad()\n",
    "            #Compute the derivative of the loss w.r.t each parameter via backprop (approx 1 line)\n",
    "            loss.backward()\n",
    "            #Use the optimizer to update parameters of neural network (approx 1 line)\n",
    "            optimizer.step()\n",
    "            ###END CODE HERE###\n",
    "        #normalize loss by m_train and add to train_costs list\n",
    "        train_costs.append(train_loss / len(train_loader))\n",
    "        \n",
    "        #Compute the test loss. The code below does not optimize. It is purely for plotting/comparison purposes.\n",
    "        test_loss = 0.0\n",
    "        with torch.no_grad():\n",
    "            model.eval()\n",
    "            for X, Y in test_loader:\n",
    "                output, target = X.to(device), Y.to(device).view(-1) \n",
    "                ###START CODE HERE###\n",
    "                #Compute model's guess for X (data) (approx 1 line)\n",
    "                output = model(output)                \n",
    "                #Compute loss of X and Y (approx 1 line)\n",
    "                loss = criterion(output, target)\n",
    "                #Add test loss of current batch to test loss accumulator (approx 1 line)\n",
    "                test_loss += loss.item()\n",
    "                ###END CODE HERE###\n",
    "            #normalize loss by m_test and add to test_costs list\n",
    "            test_costs.append(test_loss/len(test_loader))\n",
    "\n",
    "        \n",
    "      \n",
    "        test_acc = get_accuracy(model, test_loader)\n",
    "        test_accs.append(test_acc)\n",
    "        train_acc = get_accuracy(model, train_loader)\n",
    "        train_accs.append(train_acc)                            \n",
    "        print('Epoch: {} | Test Accuracy: {} | Train Accuracy: {}'.format(epoch+1, test_acc, train_acc))\n",
    "    \n",
    "    #plotting\n",
    "    #lr = get_lr(optimizer)\n",
    "    plt.plot(train_costs, label ='Train Cost')\n",
    "    plt.plot(test_costs, label ='Test Cost')\n",
    "    plt.ylabel('Costs')\n",
    "    plt.xlabel('Epochs')\n",
    "    plt.title(\"Learning rate ={}\".format(1e-3))\n",
    "    plt.legend()\n",
    "    plt.show()\n",
    "    \n",
    "    \n",
    "    plt.plot(train_accs, label ='Train Accuracy')\n",
    "    plt.plot(test_accs, label ='Test Accuarcy')\n",
    "    plt.ylabel('Accuracy')\n",
    "    plt.xlabel('Epochs (per hundreds)')\n",
    "    plt.title(\"Train and Test Accuracy\")\n",
    "    plt.legend()\n",
    "    plt.show()\n",
    "torch.manual_seed(1337)\n",
    "train(ResNet50, criterion, optimizer, loader_train, loader_test)"
   ]
  },
  {
   "cell_type": "markdown",
   "metadata": {},
   "source": [
    "Nice work! As you can see, our ResNet is no joke when it comes to image classification, which is why they are so highly used not only in computer vision, but also quantative biology because we can build super deep networks with millions of parameters and avoid the vanishing/exploding gradient problem. Finally, if you want to see just how big the network is, run the following cell to see a summary of our network.\n",
    "\n",
    "Note: if the following cell crashes for you, try installing torchsummary in your anaconda prompt:\n",
    "        \n",
    "    pip install torchsummary"
   ]
  },
  {
   "cell_type": "code",
   "execution_count": 11,
   "metadata": {},
   "outputs": [
    {
     "data": {
      "text/plain": [
       "(1080, 3, 64, 64)"
      ]
     },
     "execution_count": 11,
     "metadata": {},
     "output_type": "execute_result"
    }
   ],
   "source": [
    "X_train.shape"
   ]
  },
  {
   "cell_type": "code",
   "execution_count": 12,
   "metadata": {},
   "outputs": [
    {
     "name": "stdout",
     "output_type": "stream",
     "text": [
      "----------------------------------------------------------------\n",
      "        Layer (type)               Output Shape         Param #\n",
      "================================================================\n",
      "     ConstantPad2d-1            [-1, 3, 70, 70]               0\n",
      "            Conv2d-2           [-1, 64, 32, 32]           9,472\n",
      "       BatchNorm2d-3           [-1, 64, 32, 32]             128\n",
      "         MaxPool2d-4           [-1, 64, 15, 15]               0\n",
      "            Conv2d-5           [-1, 64, 15, 15]           4,160\n",
      "       BatchNorm2d-6           [-1, 64, 15, 15]             128\n",
      "              ReLU-7           [-1, 64, 15, 15]               0\n",
      "            Conv2d-8           [-1, 64, 15, 15]          36,928\n",
      "       BatchNorm2d-9           [-1, 64, 15, 15]             128\n",
      "             ReLU-10           [-1, 64, 15, 15]               0\n",
      "           Conv2d-11          [-1, 256, 15, 15]          16,640\n",
      "      BatchNorm2d-12          [-1, 256, 15, 15]             512\n",
      "           Conv2d-13          [-1, 256, 15, 15]          16,640\n",
      "      BatchNorm2d-14          [-1, 256, 15, 15]             512\n",
      "             ReLU-15          [-1, 256, 15, 15]               0\n",
      "convolutional_block-16          [-1, 256, 15, 15]               0\n",
      "           Conv2d-17           [-1, 64, 15, 15]          16,448\n",
      "      BatchNorm2d-18           [-1, 64, 15, 15]             128\n",
      "             ReLU-19           [-1, 64, 15, 15]               0\n",
      "           Conv2d-20           [-1, 64, 15, 15]          36,928\n",
      "      BatchNorm2d-21           [-1, 64, 15, 15]             128\n",
      "             ReLU-22           [-1, 64, 15, 15]               0\n",
      "           Conv2d-23          [-1, 256, 15, 15]          16,640\n",
      "      BatchNorm2d-24          [-1, 256, 15, 15]             512\n",
      "             ReLU-25          [-1, 256, 15, 15]               0\n",
      "   identity_block-26          [-1, 256, 15, 15]               0\n",
      "           Conv2d-27           [-1, 64, 15, 15]          16,448\n",
      "      BatchNorm2d-28           [-1, 64, 15, 15]             128\n",
      "             ReLU-29           [-1, 64, 15, 15]               0\n",
      "           Conv2d-30           [-1, 64, 15, 15]          36,928\n",
      "      BatchNorm2d-31           [-1, 64, 15, 15]             128\n",
      "             ReLU-32           [-1, 64, 15, 15]               0\n",
      "           Conv2d-33          [-1, 256, 15, 15]          16,640\n",
      "      BatchNorm2d-34          [-1, 256, 15, 15]             512\n",
      "             ReLU-35          [-1, 256, 15, 15]               0\n",
      "   identity_block-36          [-1, 256, 15, 15]               0\n",
      "           Conv2d-37            [-1, 128, 8, 8]          32,896\n",
      "      BatchNorm2d-38            [-1, 128, 8, 8]             256\n",
      "             ReLU-39            [-1, 128, 8, 8]               0\n",
      "           Conv2d-40            [-1, 128, 8, 8]         147,584\n",
      "      BatchNorm2d-41            [-1, 128, 8, 8]             256\n",
      "             ReLU-42            [-1, 128, 8, 8]               0\n",
      "           Conv2d-43            [-1, 512, 8, 8]          66,048\n",
      "      BatchNorm2d-44            [-1, 512, 8, 8]           1,024\n",
      "           Conv2d-45            [-1, 512, 8, 8]         131,584\n",
      "      BatchNorm2d-46            [-1, 512, 8, 8]           1,024\n",
      "             ReLU-47            [-1, 512, 8, 8]               0\n",
      "convolutional_block-48            [-1, 512, 8, 8]               0\n",
      "           Conv2d-49            [-1, 128, 8, 8]          65,664\n",
      "      BatchNorm2d-50            [-1, 128, 8, 8]             256\n",
      "             ReLU-51            [-1, 128, 8, 8]               0\n",
      "           Conv2d-52            [-1, 128, 8, 8]         147,584\n",
      "      BatchNorm2d-53            [-1, 128, 8, 8]             256\n",
      "             ReLU-54            [-1, 128, 8, 8]               0\n",
      "           Conv2d-55            [-1, 512, 8, 8]          66,048\n",
      "      BatchNorm2d-56            [-1, 512, 8, 8]           1,024\n",
      "             ReLU-57            [-1, 512, 8, 8]               0\n",
      "   identity_block-58            [-1, 512, 8, 8]               0\n",
      "           Conv2d-59            [-1, 128, 8, 8]          65,664\n",
      "      BatchNorm2d-60            [-1, 128, 8, 8]             256\n",
      "             ReLU-61            [-1, 128, 8, 8]               0\n",
      "           Conv2d-62            [-1, 128, 8, 8]         147,584\n",
      "      BatchNorm2d-63            [-1, 128, 8, 8]             256\n",
      "             ReLU-64            [-1, 128, 8, 8]               0\n",
      "           Conv2d-65            [-1, 512, 8, 8]          66,048\n",
      "      BatchNorm2d-66            [-1, 512, 8, 8]           1,024\n",
      "             ReLU-67            [-1, 512, 8, 8]               0\n",
      "   identity_block-68            [-1, 512, 8, 8]               0\n",
      "           Conv2d-69            [-1, 128, 8, 8]          65,664\n",
      "      BatchNorm2d-70            [-1, 128, 8, 8]             256\n",
      "             ReLU-71            [-1, 128, 8, 8]               0\n",
      "           Conv2d-72            [-1, 128, 8, 8]         147,584\n",
      "      BatchNorm2d-73            [-1, 128, 8, 8]             256\n",
      "             ReLU-74            [-1, 128, 8, 8]               0\n",
      "           Conv2d-75            [-1, 512, 8, 8]          66,048\n",
      "      BatchNorm2d-76            [-1, 512, 8, 8]           1,024\n",
      "             ReLU-77            [-1, 512, 8, 8]               0\n",
      "   identity_block-78            [-1, 512, 8, 8]               0\n",
      "           Conv2d-79            [-1, 256, 4, 4]         131,328\n",
      "      BatchNorm2d-80            [-1, 256, 4, 4]             512\n",
      "             ReLU-81            [-1, 256, 4, 4]               0\n",
      "           Conv2d-82            [-1, 256, 4, 4]         590,080\n",
      "      BatchNorm2d-83            [-1, 256, 4, 4]             512\n",
      "             ReLU-84            [-1, 256, 4, 4]               0\n",
      "           Conv2d-85           [-1, 1024, 4, 4]         263,168\n",
      "      BatchNorm2d-86           [-1, 1024, 4, 4]           2,048\n",
      "           Conv2d-87           [-1, 1024, 4, 4]         525,312\n",
      "      BatchNorm2d-88           [-1, 1024, 4, 4]           2,048\n",
      "             ReLU-89           [-1, 1024, 4, 4]               0\n",
      "convolutional_block-90           [-1, 1024, 4, 4]               0\n",
      "           Conv2d-91            [-1, 256, 4, 4]         262,400\n",
      "      BatchNorm2d-92            [-1, 256, 4, 4]             512\n",
      "             ReLU-93            [-1, 256, 4, 4]               0\n",
      "           Conv2d-94            [-1, 256, 4, 4]         590,080\n",
      "      BatchNorm2d-95            [-1, 256, 4, 4]             512\n",
      "             ReLU-96            [-1, 256, 4, 4]               0\n",
      "           Conv2d-97           [-1, 1024, 4, 4]         263,168\n",
      "      BatchNorm2d-98           [-1, 1024, 4, 4]           2,048\n",
      "             ReLU-99           [-1, 1024, 4, 4]               0\n",
      "  identity_block-100           [-1, 1024, 4, 4]               0\n",
      "          Conv2d-101            [-1, 256, 4, 4]         262,400\n",
      "     BatchNorm2d-102            [-1, 256, 4, 4]             512\n",
      "            ReLU-103            [-1, 256, 4, 4]               0\n",
      "          Conv2d-104            [-1, 256, 4, 4]         590,080\n",
      "     BatchNorm2d-105            [-1, 256, 4, 4]             512\n",
      "            ReLU-106            [-1, 256, 4, 4]               0\n",
      "          Conv2d-107           [-1, 1024, 4, 4]         263,168\n",
      "     BatchNorm2d-108           [-1, 1024, 4, 4]           2,048\n",
      "            ReLU-109           [-1, 1024, 4, 4]               0\n",
      "  identity_block-110           [-1, 1024, 4, 4]               0\n",
      "          Conv2d-111            [-1, 256, 4, 4]         262,400\n",
      "     BatchNorm2d-112            [-1, 256, 4, 4]             512\n",
      "            ReLU-113            [-1, 256, 4, 4]               0\n",
      "          Conv2d-114            [-1, 256, 4, 4]         590,080\n",
      "     BatchNorm2d-115            [-1, 256, 4, 4]             512\n",
      "            ReLU-116            [-1, 256, 4, 4]               0\n",
      "          Conv2d-117           [-1, 1024, 4, 4]         263,168\n",
      "     BatchNorm2d-118           [-1, 1024, 4, 4]           2,048\n",
      "            ReLU-119           [-1, 1024, 4, 4]               0\n",
      "  identity_block-120           [-1, 1024, 4, 4]               0\n",
      "          Conv2d-121            [-1, 256, 4, 4]         262,400\n",
      "     BatchNorm2d-122            [-1, 256, 4, 4]             512\n",
      "            ReLU-123            [-1, 256, 4, 4]               0\n",
      "          Conv2d-124            [-1, 256, 4, 4]         590,080\n",
      "     BatchNorm2d-125            [-1, 256, 4, 4]             512\n",
      "            ReLU-126            [-1, 256, 4, 4]               0\n",
      "          Conv2d-127           [-1, 1024, 4, 4]         263,168\n",
      "     BatchNorm2d-128           [-1, 1024, 4, 4]           2,048\n",
      "            ReLU-129           [-1, 1024, 4, 4]               0\n",
      "  identity_block-130           [-1, 1024, 4, 4]               0\n",
      "          Conv2d-131            [-1, 256, 4, 4]         262,400\n",
      "     BatchNorm2d-132            [-1, 256, 4, 4]             512\n",
      "            ReLU-133            [-1, 256, 4, 4]               0\n",
      "          Conv2d-134            [-1, 256, 4, 4]         590,080\n",
      "     BatchNorm2d-135            [-1, 256, 4, 4]             512\n",
      "            ReLU-136            [-1, 256, 4, 4]               0\n",
      "          Conv2d-137           [-1, 1024, 4, 4]         263,168\n",
      "     BatchNorm2d-138           [-1, 1024, 4, 4]           2,048\n",
      "            ReLU-139           [-1, 1024, 4, 4]               0\n",
      "  identity_block-140           [-1, 1024, 4, 4]               0\n",
      "          Conv2d-141            [-1, 512, 2, 2]         524,800\n",
      "     BatchNorm2d-142            [-1, 512, 2, 2]           1,024\n",
      "            ReLU-143            [-1, 512, 2, 2]               0\n",
      "          Conv2d-144            [-1, 512, 2, 2]       2,359,808\n",
      "     BatchNorm2d-145            [-1, 512, 2, 2]           1,024\n",
      "            ReLU-146            [-1, 512, 2, 2]               0\n",
      "          Conv2d-147           [-1, 2048, 2, 2]       1,050,624\n",
      "     BatchNorm2d-148           [-1, 2048, 2, 2]           4,096\n",
      "          Conv2d-149           [-1, 2048, 2, 2]       2,099,200\n",
      "     BatchNorm2d-150           [-1, 2048, 2, 2]           4,096\n",
      "            ReLU-151           [-1, 2048, 2, 2]               0\n",
      "convolutional_block-152           [-1, 2048, 2, 2]               0\n",
      "          Conv2d-153            [-1, 512, 2, 2]       1,049,088\n",
      "     BatchNorm2d-154            [-1, 512, 2, 2]           1,024\n",
      "            ReLU-155            [-1, 512, 2, 2]               0\n",
      "          Conv2d-156            [-1, 512, 2, 2]       2,359,808\n",
      "     BatchNorm2d-157            [-1, 512, 2, 2]           1,024\n",
      "            ReLU-158            [-1, 512, 2, 2]               0\n",
      "          Conv2d-159           [-1, 2048, 2, 2]       1,050,624\n",
      "     BatchNorm2d-160           [-1, 2048, 2, 2]           4,096\n",
      "            ReLU-161           [-1, 2048, 2, 2]               0\n",
      "  identity_block-162           [-1, 2048, 2, 2]               0\n",
      "          Conv2d-163            [-1, 512, 2, 2]       1,049,088\n",
      "     BatchNorm2d-164            [-1, 512, 2, 2]           1,024\n",
      "            ReLU-165            [-1, 512, 2, 2]               0\n",
      "          Conv2d-166            [-1, 512, 2, 2]       2,359,808\n",
      "     BatchNorm2d-167            [-1, 512, 2, 2]           1,024\n",
      "            ReLU-168            [-1, 512, 2, 2]               0\n",
      "          Conv2d-169           [-1, 2048, 2, 2]       1,050,624\n",
      "     BatchNorm2d-170           [-1, 2048, 2, 2]           4,096\n",
      "            ReLU-171           [-1, 2048, 2, 2]               0\n",
      "  identity_block-172           [-1, 2048, 2, 2]               0\n",
      "       AvgPool2d-173           [-1, 2048, 1, 1]               0\n",
      "         Flatten-174                 [-1, 2048]               0\n",
      "          Linear-175                    [-1, 6]          12,294\n",
      "================================================================\n",
      "Total params: 23,546,886\n",
      "Trainable params: 23,546,886\n",
      "Non-trainable params: 0\n",
      "----------------------------------------------------------------\n",
      "Input size (MB): 0.05\n",
      "Forward/backward pass size (MB): 20.91\n",
      "Params size (MB): 89.82\n",
      "Estimated Total Size (MB): 110.79\n",
      "----------------------------------------------------------------\n",
      "None\n"
     ]
    }
   ],
   "source": [
    "from torchsummary import summary\n",
    "print(summary(ResNet50, input_size=(X_train.shape[1:])))"
   ]
  },
  {
   "cell_type": "markdown",
   "metadata": {},
   "source": [
    "OMG! That's a lot of parameters. ^^"
   ]
  },
  {
   "cell_type": "markdown",
   "metadata": {},
   "source": [
    "<font color='blue'>\n",
    "**What you should remember:**\n",
    "- Very deep \"plain\" networks don't work in practice because they are hard to train due to vanishing gradients.  \n",
    "- The skip-connections help to address the Vanishing Gradient problem. They also make it easy for a ResNet block to learn an identity function. \n",
    "- There are two main type of blocks: The identity block and the convolutional block. \n",
    "- Very deep Residual Networks are built by stacking these blocks together."
   ]
  },
  {
   "cell_type": "markdown",
   "metadata": {},
   "source": [
    "### References \n",
    "\n",
    "This notebook presents the ResNet algorithm due to He et al. (2015). The implementation here also took significant inspiration and follows the structure given in the github repository of Francois Chollet: \n",
    "\n",
    "- Kaiming He, Xiangyu Zhang, Shaoqing Ren, Jian Sun - [Deep Residual Learning for Image Recognition (2015)](https://arxiv.org/abs/1512.03385)\n",
    "- Francois Chollet's github repository: https://github.com/fchollet/deep-learning-models/blob/master/resnet50.py\n"
   ]
  },
  {
   "cell_type": "code",
   "execution_count": null,
   "metadata": {},
   "outputs": [],
   "source": []
  }
 ],
 "metadata": {
  "kernelspec": {
   "display_name": "Python 3",
   "language": "python",
   "name": "python3"
  },
  "language_info": {
   "codemirror_mode": {
    "name": "ipython",
    "version": 3
   },
   "file_extension": ".py",
   "mimetype": "text/x-python",
   "name": "python",
   "nbconvert_exporter": "python",
   "pygments_lexer": "ipython3",
   "version": "3.6.10"
  },
  "varInspector": {
   "cols": {
    "lenName": 16,
    "lenType": 16,
    "lenVar": 40
   },
   "kernels_config": {
    "python": {
     "delete_cmd_postfix": "",
     "delete_cmd_prefix": "del ",
     "library": "var_list.py",
     "varRefreshCmd": "print(var_dic_list())"
    },
    "r": {
     "delete_cmd_postfix": ") ",
     "delete_cmd_prefix": "rm(",
     "library": "var_list.r",
     "varRefreshCmd": "cat(var_dic_list()) "
    }
   },
   "position": {
    "height": "601px",
    "left": "1175.83px",
    "right": "17.6667px",
    "top": "120px",
    "width": "352px"
   },
   "types_to_exclude": [
    "module",
    "function",
    "builtin_function_or_method",
    "instance",
    "_Feature"
   ],
   "window_display": false
  }
 },
 "nbformat": 4,
 "nbformat_minor": 2
}
