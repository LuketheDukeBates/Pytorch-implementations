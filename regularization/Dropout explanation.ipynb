{
 "cells": [
  {
   "cell_type": "code",
   "execution_count": 1,
   "metadata": {},
   "outputs": [
    {
     "name": "stdout",
     "output_type": "stream",
     "text": [
      "tensor([[0.2192],\n",
      "        [0.5132],\n",
      "        [0.3959],\n",
      "        [0.4095],\n",
      "        [0.5974],\n",
      "        [0.7713],\n",
      "        [0.6621],\n",
      "        [0.5430],\n",
      "        [0.4814],\n",
      "        [0.1024]])\n",
      "torch.Size([10, 1])\n"
     ]
    }
   ],
   "source": [
    "import torch\n",
    "z3 = torch.randn(10,1)\n",
    "a3 = torch.sigmoid(z3)\n",
    "print(a3)\n",
    "print(a3.shape)"
   ]
  },
  {
   "cell_type": "code",
   "execution_count": 2,
   "metadata": {},
   "outputs": [
    {
     "data": {
      "text/plain": [
       "0.4695364832878113"
      ]
     },
     "execution_count": 2,
     "metadata": {},
     "output_type": "execute_result"
    }
   ],
   "source": [
    "torch.mean(a3).item()"
   ]
  },
  {
   "cell_type": "code",
   "execution_count": 3,
   "metadata": {},
   "outputs": [
    {
     "name": "stdout",
     "output_type": "stream",
     "text": [
      "tensor([[ 1.4875],\n",
      "        [ 0.0606],\n",
      "        [-0.1991],\n",
      "        [ 1.0537],\n",
      "        [-0.4122],\n",
      "        [-0.0351],\n",
      "        [ 0.9415],\n",
      "        [ 0.0537],\n",
      "        [-0.8175],\n",
      "        [-0.3220]])\n"
     ]
    }
   ],
   "source": [
    "keepprob = 0.8\n",
    "d3 = torch.randn(a3.shape[0], a3.shape[1])\n",
    "print(d3)"
   ]
  },
  {
   "cell_type": "code",
   "execution_count": 4,
   "metadata": {},
   "outputs": [
    {
     "name": "stdout",
     "output_type": "stream",
     "text": [
      "tensor([[False],\n",
      "        [ True],\n",
      "        [ True],\n",
      "        [False],\n",
      "        [ True],\n",
      "        [ True],\n",
      "        [False],\n",
      "        [ True],\n",
      "        [ True],\n",
      "        [ True]])\n"
     ]
    }
   ],
   "source": [
    "d3 = d3 < keepprob \n",
    "print(d3)"
   ]
  },
  {
   "cell_type": "code",
   "execution_count": 5,
   "metadata": {},
   "outputs": [
    {
     "data": {
      "text/plain": [
       "True"
      ]
     },
     "execution_count": 5,
     "metadata": {},
     "output_type": "execute_result"
    }
   ],
   "source": [
    "False == 0"
   ]
  },
  {
   "cell_type": "code",
   "execution_count": 6,
   "metadata": {},
   "outputs": [
    {
     "data": {
      "text/plain": [
       "True"
      ]
     },
     "execution_count": 6,
     "metadata": {},
     "output_type": "execute_result"
    }
   ],
   "source": [
    "1 == True"
   ]
  },
  {
   "cell_type": "code",
   "execution_count": 7,
   "metadata": {},
   "outputs": [
    {
     "name": "stdout",
     "output_type": "stream",
     "text": [
      "tensor([[0.0000],\n",
      "        [0.5132],\n",
      "        [0.3959],\n",
      "        [0.0000],\n",
      "        [0.5974],\n",
      "        [0.7713],\n",
      "        [0.0000],\n",
      "        [0.5430],\n",
      "        [0.4814],\n",
      "        [0.1024]])\n",
      "0.3404501676559448\n"
     ]
    }
   ],
   "source": [
    "a3 = torch.mul(a3, d3)\n",
    "print(a3)\n",
    "print(torch.mean(a3).item())"
   ]
  },
  {
   "cell_type": "code",
   "execution_count": 8,
   "metadata": {},
   "outputs": [
    {
     "name": "stdout",
     "output_type": "stream",
     "text": [
      "tensor([[0.0000],\n",
      "        [0.6415],\n",
      "        [0.4948],\n",
      "        [0.0000],\n",
      "        [0.7468],\n",
      "        [0.9641],\n",
      "        [0.0000],\n",
      "        [0.6787],\n",
      "        [0.6018],\n",
      "        [0.1279]])\n",
      "0.42556267976760864\n"
     ]
    }
   ],
   "source": [
    "a3 = a3/keepprob\n",
    "print(a3)\n",
    "print(torch.mean(a3).item())"
   ]
  },
  {
   "cell_type": "code",
   "execution_count": null,
   "metadata": {},
   "outputs": [],
   "source": []
  },
  {
   "cell_type": "code",
   "execution_count": null,
   "metadata": {},
   "outputs": [],
   "source": []
  }
 ],
 "metadata": {
  "kernelspec": {
   "display_name": "Python 3",
   "language": "python",
   "name": "python3"
  },
  "language_info": {
   "codemirror_mode": {
    "name": "ipython",
    "version": 3
   },
   "file_extension": ".py",
   "mimetype": "text/x-python",
   "name": "python",
   "nbconvert_exporter": "python",
   "pygments_lexer": "ipython3",
   "version": "3.6.10"
  }
 },
 "nbformat": 4,
 "nbformat_minor": 2
}
